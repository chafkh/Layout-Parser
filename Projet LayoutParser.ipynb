{
  "nbformat": 4,
  "nbformat_minor": 0,
  "metadata": {
    "colab": {
      "provenance": [],
      "toc_visible": true
    },
    "kernelspec": {
      "name": "python3",
      "display_name": "Python 3"
    },
    "language_info": {
      "name": "python"
    }
  },
  "cells": [
    {
      "cell_type": "markdown",
      "source": [
        "**Installation**"
      ],
      "metadata": {
        "id": "8a6Z7WLNvjwD"
      }
    },
    {
      "cell_type": "code",
      "execution_count": null,
      "metadata": {
        "colab": {
          "base_uri": "https://localhost:8080/"
        },
        "id": "iETzuHIApf9w",
        "outputId": "babb27f2-7e94-4f43-c99b-b1fe779355f1"
      },
      "outputs": [
        {
          "output_type": "stream",
          "name": "stdout",
          "text": [
            "Requirement already satisfied: pdf2image in /usr/local/lib/python3.10/dist-packages (1.16.3)\n",
            "Requirement already satisfied: pillow in /usr/local/lib/python3.10/dist-packages (from pdf2image) (10.0.0)\n",
            "Hit:1 https://cloud.r-project.org/bin/linux/ubuntu jammy-cran40/ InRelease\n",
            "Hit:2 https://developer.download.nvidia.com/compute/cuda/repos/ubuntu2204/x86_64  InRelease\n",
            "Get:3 http://security.ubuntu.com/ubuntu jammy-security InRelease [110 kB]\n",
            "Hit:4 http://archive.ubuntu.com/ubuntu jammy InRelease\n",
            "Get:5 http://archive.ubuntu.com/ubuntu jammy-updates InRelease [119 kB]\n",
            "Get:6 http://archive.ubuntu.com/ubuntu jammy-backports InRelease [109 kB]\n",
            "Hit:7 https://ppa.launchpadcontent.net/c2d4u.team/c2d4u4.0+/ubuntu jammy InRelease\n",
            "Hit:8 https://ppa.launchpadcontent.net/deadsnakes/ppa/ubuntu jammy InRelease\n",
            "Hit:9 https://ppa.launchpadcontent.net/graphics-drivers/ppa/ubuntu jammy InRelease\n",
            "Hit:10 https://ppa.launchpadcontent.net/ubuntugis/ppa/ubuntu jammy InRelease\n",
            "Fetched 338 kB in 3s (132 kB/s)\n",
            "Reading package lists... Done\n",
            "Reading package lists... Done\n",
            "Building dependency tree... Done\n",
            "Reading state information... Done\n",
            "poppler-utils is already the newest version (22.02.0-2ubuntu0.2).\n",
            "0 upgraded, 0 newly installed, 0 to remove and 20 not upgraded.\n"
          ]
        }
      ],
      "source": [
        "!pip install pdf2image\n",
        "!apt-get update\n",
        "!apt-get install poppler-utils"
      ]
    },
    {
      "cell_type": "markdown",
      "source": [
        "**Conversion (facultatif)**"
      ],
      "metadata": {
        "id": "GV7XIEdev1zN"
      }
    },
    {
      "cell_type": "code",
      "source": [
        "from pdf2image import convert_from_path"
      ],
      "metadata": {
        "id": "Sg_NrGEVphmG"
      },
      "execution_count": null,
      "outputs": []
    },
    {
      "cell_type": "code",
      "source": [
        "images = convert_from_path('/content/ANTIOQUIA (1) (1).pdf')"
      ],
      "metadata": {
        "id": "L20GpYTjplZS"
      },
      "execution_count": null,
      "outputs": []
    },
    {
      "cell_type": "code",
      "source": [
        "!mkdir pages"
      ],
      "metadata": {
        "id": "sfCoWKOopr_O",
        "colab": {
          "base_uri": "https://localhost:8080/"
        },
        "outputId": "b6607197-2d66-4ded-d0ad-8c70a2913576"
      },
      "execution_count": null,
      "outputs": [
        {
          "output_type": "stream",
          "name": "stdout",
          "text": [
            "mkdir: cannot create directory ‘pages’: File exists\n"
          ]
        }
      ]
    },
    {
      "cell_type": "code",
      "source": [
        "for i in range(len(images)):\n",
        "  images[i].save('pages/page'+str(i)+'.jpg', 'JPEG')"
      ],
      "metadata": {
        "id": "FWJPs333pvsK"
      },
      "execution_count": null,
      "outputs": []
    },
    {
      "cell_type": "code",
      "source": [
        "!wget https://paddleocr.bj.bcebos.com/whl/layoutparser-0.0.0-py3-none-any.whl\n",
        "!pip install -U layoutparser-0.0.0-py3-none-any.whl"
      ],
      "metadata": {
        "colab": {
          "base_uri": "https://localhost:8080/"
        },
        "id": "g9ZnxsyGpzL3",
        "outputId": "554dbfac-aec2-466d-93b4-912e48082923"
      },
      "execution_count": null,
      "outputs": [
        {
          "output_type": "stream",
          "name": "stdout",
          "text": [
            "layoutparser-0.0.0- 100%[===================>]  18.26M  3.75MB/s    in 12s     \n",
            "\n",
            "2023-08-07 20:28:57 (1.50 MB/s) - ‘layoutparser-0.0.0-py3-none-any.whl.1’ saved [19145360/19145360]\n",
            "\n",
            "Processing ./layoutparser-0.0.0-py3-none-any.whl\n",
            "Requirement already satisfied: numpy in /usr/local/lib/python3.10/dist-packages (from layoutparser==0.0.0) (1.22.4)\n",
            "Requirement already satisfied: opencv-python in /usr/local/lib/python3.10/dist-packages (from layoutparser==0.0.0) (4.6.0.66)\n",
            "Requirement already satisfied: pandas in /usr/local/lib/python3.10/dist-packages (from layoutparser==0.0.0) (1.5.3)\n",
            "Requirement already satisfied: pillow in /usr/local/lib/python3.10/dist-packages (from layoutparser==0.0.0) (10.0.0)\n",
            "Requirement already satisfied: pyyaml>=5.1 in /usr/local/lib/python3.10/dist-packages (from layoutparser==0.0.0) (6.0.1)\n",
            "Requirement already satisfied: iopath in /usr/local/lib/python3.10/dist-packages (from layoutparser==0.0.0) (0.1.10)\n",
            "Requirement already satisfied: tqdm in /usr/local/lib/python3.10/dist-packages (from layoutparser==0.0.0) (4.65.0)\n",
            "Requirement already satisfied: typing-extensions in /usr/local/lib/python3.10/dist-packages (from iopath->layoutparser==0.0.0) (4.7.1)\n",
            "Requirement already satisfied: portalocker in /usr/local/lib/python3.10/dist-packages (from iopath->layoutparser==0.0.0) (2.7.0)\n",
            "Requirement already satisfied: python-dateutil>=2.8.1 in /usr/local/lib/python3.10/dist-packages (from pandas->layoutparser==0.0.0) (2.8.2)\n",
            "Requirement already satisfied: pytz>=2020.1 in /usr/local/lib/python3.10/dist-packages (from pandas->layoutparser==0.0.0) (2022.7.1)\n",
            "Requirement already satisfied: six>=1.5 in /usr/local/lib/python3.10/dist-packages (from python-dateutil>=2.8.1->pandas->layoutparser==0.0.0) (1.16.0)\n",
            "layoutparser is already installed with the same version as the provided wheel. Use --force-reinstall to force an installation of the wheel.\n"
          ]
        }
      ]
    },
    {
      "cell_type": "code",
      "source": [
        "!python3 -m pip install paddlepaddle-gpu\n",
        "!pip install \"paddleocr>=2.0.1\"\n",
        "!pip install protobuf==3.20.0\n",
        "!git clone https://github.com/PaddlePaddle/PaddleOCR.git"
      ],
      "metadata": {
        "colab": {
          "base_uri": "https://localhost:8080/",
          "height": 1000
        },
        "id": "0g7I_aDtp0Bt",
        "outputId": "c80c4dd8-2c6f-431e-f6ec-97a8b9a54947"
      },
      "execution_count": null,
      "outputs": [
        {
          "output_type": "stream",
          "name": "stdout",
          "text": [
            "Requirement already satisfied: paddlepaddle-gpu in /usr/local/lib/python3.10/dist-packages (2.5.1)\n",
            "Requirement already satisfied: httpx in /usr/local/lib/python3.10/dist-packages (from paddlepaddle-gpu) (0.24.1)\n",
            "Requirement already satisfied: numpy>=1.13 in /usr/local/lib/python3.10/dist-packages (from paddlepaddle-gpu) (1.22.4)\n",
            "Requirement already satisfied: Pillow in /usr/local/lib/python3.10/dist-packages (from paddlepaddle-gpu) (10.0.0)\n",
            "Requirement already satisfied: decorator in /usr/local/lib/python3.10/dist-packages (from paddlepaddle-gpu) (4.4.2)\n",
            "Requirement already satisfied: astor in /usr/local/lib/python3.10/dist-packages (from paddlepaddle-gpu) (0.8.1)\n",
            "Requirement already satisfied: paddle-bfloat==0.1.7 in /usr/local/lib/python3.10/dist-packages (from paddlepaddle-gpu) (0.1.7)\n",
            "Requirement already satisfied: opt-einsum==3.3.0 in /usr/local/lib/python3.10/dist-packages (from paddlepaddle-gpu) (3.3.0)\n",
            "Collecting protobuf>=3.20.2 (from paddlepaddle-gpu)\n",
            "  Downloading protobuf-4.23.4-cp37-abi3-manylinux2014_x86_64.whl (304 kB)\n",
            "\u001b[2K     \u001b[90m━━━━━━━━━━━━━━━━━━━━━━━━━━━━━━━━━━━━━━━\u001b[0m \u001b[32m304.5/304.5 kB\u001b[0m \u001b[31m4.6 MB/s\u001b[0m eta \u001b[36m0:00:00\u001b[0m\n",
            "\u001b[?25hRequirement already satisfied: certifi in /usr/local/lib/python3.10/dist-packages (from httpx->paddlepaddle-gpu) (2023.7.22)\n",
            "Requirement already satisfied: httpcore<0.18.0,>=0.15.0 in /usr/local/lib/python3.10/dist-packages (from httpx->paddlepaddle-gpu) (0.17.3)\n",
            "Requirement already satisfied: idna in /usr/local/lib/python3.10/dist-packages (from httpx->paddlepaddle-gpu) (3.4)\n",
            "Requirement already satisfied: sniffio in /usr/local/lib/python3.10/dist-packages (from httpx->paddlepaddle-gpu) (1.3.0)\n",
            "Requirement already satisfied: h11<0.15,>=0.13 in /usr/local/lib/python3.10/dist-packages (from httpcore<0.18.0,>=0.15.0->httpx->paddlepaddle-gpu) (0.14.0)\n",
            "Requirement already satisfied: anyio<5.0,>=3.0 in /usr/local/lib/python3.10/dist-packages (from httpcore<0.18.0,>=0.15.0->httpx->paddlepaddle-gpu) (3.7.1)\n",
            "Requirement already satisfied: exceptiongroup in /usr/local/lib/python3.10/dist-packages (from anyio<5.0,>=3.0->httpcore<0.18.0,>=0.15.0->httpx->paddlepaddle-gpu) (1.1.2)\n",
            "Installing collected packages: protobuf\n",
            "  Attempting uninstall: protobuf\n",
            "    Found existing installation: protobuf 3.20.0\n",
            "    Uninstalling protobuf-3.20.0:\n",
            "      Successfully uninstalled protobuf-3.20.0\n",
            "Successfully installed protobuf-4.23.4\n",
            "Requirement already satisfied: paddleocr>=2.0.1 in /usr/local/lib/python3.10/dist-packages (2.7.0.0)\n",
            "Requirement already satisfied: shapely in /usr/local/lib/python3.10/dist-packages (from paddleocr>=2.0.1) (2.0.1)\n",
            "Requirement already satisfied: scikit-image in /usr/local/lib/python3.10/dist-packages (from paddleocr>=2.0.1) (0.19.3)\n",
            "Requirement already satisfied: imgaug in /usr/local/lib/python3.10/dist-packages (from paddleocr>=2.0.1) (0.4.0)\n",
            "Requirement already satisfied: pyclipper in /usr/local/lib/python3.10/dist-packages (from paddleocr>=2.0.1) (1.3.0.post4)\n",
            "Requirement already satisfied: lmdb in /usr/local/lib/python3.10/dist-packages (from paddleocr>=2.0.1) (1.4.1)\n",
            "Requirement already satisfied: tqdm in /usr/local/lib/python3.10/dist-packages (from paddleocr>=2.0.1) (4.65.0)\n",
            "Requirement already satisfied: numpy in /usr/local/lib/python3.10/dist-packages (from paddleocr>=2.0.1) (1.22.4)\n",
            "Requirement already satisfied: visualdl in /usr/local/lib/python3.10/dist-packages (from paddleocr>=2.0.1) (2.5.3)\n",
            "Requirement already satisfied: rapidfuzz in /usr/local/lib/python3.10/dist-packages (from paddleocr>=2.0.1) (3.2.0)\n",
            "Requirement already satisfied: opencv-python<=4.6.0.66 in /usr/local/lib/python3.10/dist-packages (from paddleocr>=2.0.1) (4.6.0.66)\n",
            "Requirement already satisfied: opencv-contrib-python<=4.6.0.66 in /usr/local/lib/python3.10/dist-packages (from paddleocr>=2.0.1) (4.6.0.66)\n",
            "Requirement already satisfied: cython in /usr/local/lib/python3.10/dist-packages (from paddleocr>=2.0.1) (0.29.36)\n",
            "Requirement already satisfied: lxml in /usr/local/lib/python3.10/dist-packages (from paddleocr>=2.0.1) (4.9.3)\n",
            "Requirement already satisfied: premailer in /usr/local/lib/python3.10/dist-packages (from paddleocr>=2.0.1) (3.10.0)\n",
            "Requirement already satisfied: openpyxl in /usr/local/lib/python3.10/dist-packages (from paddleocr>=2.0.1) (3.0.10)\n",
            "Requirement already satisfied: attrdict in /usr/local/lib/python3.10/dist-packages (from paddleocr>=2.0.1) (2.0.1)\n",
            "Requirement already satisfied: PyMuPDF<1.21.0 in /usr/local/lib/python3.10/dist-packages (from paddleocr>=2.0.1) (1.20.2)\n",
            "Requirement already satisfied: Pillow>=10.0.0 in /usr/local/lib/python3.10/dist-packages (from paddleocr>=2.0.1) (10.0.0)\n",
            "Requirement already satisfied: python-docx in /usr/local/lib/python3.10/dist-packages (from paddleocr>=2.0.1) (0.8.11)\n",
            "Requirement already satisfied: beautifulsoup4 in /usr/local/lib/python3.10/dist-packages (from paddleocr>=2.0.1) (4.11.2)\n",
            "Requirement already satisfied: fonttools>=4.24.0 in /usr/local/lib/python3.10/dist-packages (from paddleocr>=2.0.1) (4.41.1)\n",
            "Requirement already satisfied: fire>=0.3.0 in /usr/local/lib/python3.10/dist-packages (from paddleocr>=2.0.1) (0.5.0)\n",
            "Requirement already satisfied: pdf2docx in /usr/local/lib/python3.10/dist-packages (from paddleocr>=2.0.1) (0.5.6)\n",
            "Requirement already satisfied: six in /usr/local/lib/python3.10/dist-packages (from fire>=0.3.0->paddleocr>=2.0.1) (1.16.0)\n",
            "Requirement already satisfied: termcolor in /usr/local/lib/python3.10/dist-packages (from fire>=0.3.0->paddleocr>=2.0.1) (2.3.0)\n",
            "Requirement already satisfied: soupsieve>1.2 in /usr/local/lib/python3.10/dist-packages (from beautifulsoup4->paddleocr>=2.0.1) (2.4.1)\n",
            "Requirement already satisfied: scipy in /usr/local/lib/python3.10/dist-packages (from imgaug->paddleocr>=2.0.1) (1.10.1)\n",
            "Requirement already satisfied: matplotlib in /usr/local/lib/python3.10/dist-packages (from imgaug->paddleocr>=2.0.1) (3.7.1)\n",
            "Requirement already satisfied: imageio in /usr/local/lib/python3.10/dist-packages (from imgaug->paddleocr>=2.0.1) (2.25.1)\n",
            "Requirement already satisfied: networkx>=2.2 in /usr/local/lib/python3.10/dist-packages (from scikit-image->paddleocr>=2.0.1) (3.1)\n",
            "Requirement already satisfied: tifffile>=2019.7.26 in /usr/local/lib/python3.10/dist-packages (from scikit-image->paddleocr>=2.0.1) (2023.7.18)\n",
            "Requirement already satisfied: PyWavelets>=1.1.1 in /usr/local/lib/python3.10/dist-packages (from scikit-image->paddleocr>=2.0.1) (1.4.1)\n",
            "Requirement already satisfied: packaging>=20.0 in /usr/local/lib/python3.10/dist-packages (from scikit-image->paddleocr>=2.0.1) (23.1)\n",
            "Requirement already satisfied: et-xmlfile in /usr/local/lib/python3.10/dist-packages (from openpyxl->paddleocr>=2.0.1) (1.1.0)\n",
            "Requirement already satisfied: cssselect in /usr/local/lib/python3.10/dist-packages (from premailer->paddleocr>=2.0.1) (1.2.0)\n",
            "Requirement already satisfied: cssutils in /usr/local/lib/python3.10/dist-packages (from premailer->paddleocr>=2.0.1) (2.7.1)\n",
            "Requirement already satisfied: requests in /usr/local/lib/python3.10/dist-packages (from premailer->paddleocr>=2.0.1) (2.27.1)\n",
            "Requirement already satisfied: cachetools in /usr/local/lib/python3.10/dist-packages (from premailer->paddleocr>=2.0.1) (5.3.1)\n",
            "Requirement already satisfied: bce-python-sdk in /usr/local/lib/python3.10/dist-packages (from visualdl->paddleocr>=2.0.1) (0.8.87)\n",
            "Requirement already satisfied: flask>=1.1.1 in /usr/local/lib/python3.10/dist-packages (from visualdl->paddleocr>=2.0.1) (2.2.5)\n",
            "Requirement already satisfied: Flask-Babel>=3.0.0 in /usr/local/lib/python3.10/dist-packages (from visualdl->paddleocr>=2.0.1) (3.1.0)\n",
            "Requirement already satisfied: protobuf>=3.20.0 in /usr/local/lib/python3.10/dist-packages (from visualdl->paddleocr>=2.0.1) (4.23.4)\n",
            "Requirement already satisfied: pandas in /usr/local/lib/python3.10/dist-packages (from visualdl->paddleocr>=2.0.1) (1.5.3)\n",
            "Requirement already satisfied: rarfile in /usr/local/lib/python3.10/dist-packages (from visualdl->paddleocr>=2.0.1) (4.0)\n",
            "Requirement already satisfied: psutil in /usr/local/lib/python3.10/dist-packages (from visualdl->paddleocr>=2.0.1) (5.9.5)\n",
            "Requirement already satisfied: Werkzeug>=2.2.2 in /usr/local/lib/python3.10/dist-packages (from flask>=1.1.1->visualdl->paddleocr>=2.0.1) (2.3.6)\n",
            "Requirement already satisfied: Jinja2>=3.0 in /usr/local/lib/python3.10/dist-packages (from flask>=1.1.1->visualdl->paddleocr>=2.0.1) (3.1.2)\n",
            "Requirement already satisfied: itsdangerous>=2.0 in /usr/local/lib/python3.10/dist-packages (from flask>=1.1.1->visualdl->paddleocr>=2.0.1) (2.1.2)\n",
            "Requirement already satisfied: click>=8.0 in /usr/local/lib/python3.10/dist-packages (from flask>=1.1.1->visualdl->paddleocr>=2.0.1) (8.1.6)\n",
            "Requirement already satisfied: Babel>=2.12 in /usr/local/lib/python3.10/dist-packages (from Flask-Babel>=3.0.0->visualdl->paddleocr>=2.0.1) (2.12.1)\n",
            "Requirement already satisfied: pytz>=2022.7 in /usr/local/lib/python3.10/dist-packages (from Flask-Babel>=3.0.0->visualdl->paddleocr>=2.0.1) (2022.7.1)\n",
            "Requirement already satisfied: pycryptodome>=3.8.0 in /usr/local/lib/python3.10/dist-packages (from bce-python-sdk->visualdl->paddleocr>=2.0.1) (3.18.0)\n",
            "Requirement already satisfied: future>=0.6.0 in /usr/local/lib/python3.10/dist-packages (from bce-python-sdk->visualdl->paddleocr>=2.0.1) (0.18.3)\n",
            "Requirement already satisfied: contourpy>=1.0.1 in /usr/local/lib/python3.10/dist-packages (from matplotlib->imgaug->paddleocr>=2.0.1) (1.1.0)\n",
            "Requirement already satisfied: cycler>=0.10 in /usr/local/lib/python3.10/dist-packages (from matplotlib->imgaug->paddleocr>=2.0.1) (0.11.0)\n",
            "Requirement already satisfied: kiwisolver>=1.0.1 in /usr/local/lib/python3.10/dist-packages (from matplotlib->imgaug->paddleocr>=2.0.1) (1.4.4)\n",
            "Requirement already satisfied: pyparsing>=2.3.1 in /usr/local/lib/python3.10/dist-packages (from matplotlib->imgaug->paddleocr>=2.0.1) (3.1.0)\n",
            "Requirement already satisfied: python-dateutil>=2.7 in /usr/local/lib/python3.10/dist-packages (from matplotlib->imgaug->paddleocr>=2.0.1) (2.8.2)\n",
            "Requirement already satisfied: urllib3<1.27,>=1.21.1 in /usr/local/lib/python3.10/dist-packages (from requests->premailer->paddleocr>=2.0.1) (1.26.16)\n",
            "Requirement already satisfied: certifi>=2017.4.17 in /usr/local/lib/python3.10/dist-packages (from requests->premailer->paddleocr>=2.0.1) (2023.7.22)\n",
            "Requirement already satisfied: charset-normalizer~=2.0.0 in /usr/local/lib/python3.10/dist-packages (from requests->premailer->paddleocr>=2.0.1) (2.0.12)\n",
            "Requirement already satisfied: idna<4,>=2.5 in /usr/local/lib/python3.10/dist-packages (from requests->premailer->paddleocr>=2.0.1) (3.4)\n",
            "Requirement already satisfied: MarkupSafe>=2.0 in /usr/local/lib/python3.10/dist-packages (from Jinja2>=3.0->flask>=1.1.1->visualdl->paddleocr>=2.0.1) (2.1.3)\n",
            "Collecting protobuf==3.20.0\n",
            "  Using cached protobuf-3.20.0-cp310-cp310-manylinux_2_12_x86_64.manylinux2010_x86_64.whl (1.1 MB)\n",
            "Installing collected packages: protobuf\n",
            "  Attempting uninstall: protobuf\n",
            "    Found existing installation: protobuf 4.23.4\n",
            "    Uninstalling protobuf-4.23.4:\n",
            "      Successfully uninstalled protobuf-4.23.4\n",
            "\u001b[31mERROR: pip's dependency resolver does not currently take into account all the packages that are installed. This behaviour is the source of the following dependency conflicts.\n",
            "google-api-core 2.11.1 requires protobuf!=3.20.0,!=3.20.1,!=4.21.0,!=4.21.1,!=4.21.2,!=4.21.3,!=4.21.4,!=4.21.5,<5.0.0.dev0,>=3.19.5, but you have protobuf 3.20.0 which is incompatible.\n",
            "google-cloud-bigquery 3.10.0 requires protobuf!=3.20.0,!=3.20.1,!=4.21.0,!=4.21.1,!=4.21.2,!=4.21.3,!=4.21.4,!=4.21.5,<5.0.0dev,>=3.19.5, but you have protobuf 3.20.0 which is incompatible.\n",
            "google-cloud-bigquery-connection 1.12.1 requires protobuf!=3.20.0,!=3.20.1,!=4.21.0,!=4.21.1,!=4.21.2,!=4.21.3,!=4.21.4,!=4.21.5,<5.0.0dev,>=3.19.5, but you have protobuf 3.20.0 which is incompatible.\n",
            "google-cloud-bigquery-storage 2.22.0 requires protobuf!=3.20.0,!=3.20.1,!=4.21.0,!=4.21.1,!=4.21.2,!=4.21.3,!=4.21.4,!=4.21.5,<5.0.0dev,>=3.19.5, but you have protobuf 3.20.0 which is incompatible.\n",
            "google-cloud-datastore 2.15.2 requires protobuf!=3.20.0,!=3.20.1,!=4.21.0,!=4.21.1,!=4.21.2,!=4.21.3,!=4.21.4,!=4.21.5,<5.0.0dev,>=3.19.5, but you have protobuf 3.20.0 which is incompatible.\n",
            "google-cloud-firestore 2.11.1 requires protobuf!=3.20.0,!=3.20.1,!=4.21.0,!=4.21.1,!=4.21.2,!=4.21.3,!=4.21.4,!=4.21.5,<5.0.0dev,>=3.19.5, but you have protobuf 3.20.0 which is incompatible.\n",
            "google-cloud-functions 1.13.1 requires protobuf!=3.20.0,!=3.20.1,!=4.21.0,!=4.21.1,!=4.21.2,!=4.21.3,!=4.21.4,!=4.21.5,<5.0.0dev,>=3.19.5, but you have protobuf 3.20.0 which is incompatible.\n",
            "google-cloud-language 2.9.1 requires protobuf!=3.20.0,!=3.20.1,!=4.21.0,!=4.21.1,!=4.21.2,!=4.21.3,!=4.21.4,!=4.21.5,<5.0.0dev,>=3.19.5, but you have protobuf 3.20.0 which is incompatible.\n",
            "google-cloud-translate 3.11.2 requires protobuf!=3.20.0,!=3.20.1,!=4.21.0,!=4.21.1,!=4.21.2,!=4.21.3,!=4.21.4,!=4.21.5,<5.0.0dev,>=3.19.5, but you have protobuf 3.20.0 which is incompatible.\n",
            "googleapis-common-protos 1.59.1 requires protobuf!=3.20.0,!=3.20.1,!=4.21.1,!=4.21.2,!=4.21.3,!=4.21.4,!=4.21.5,<5.0.0.dev0,>=3.19.5, but you have protobuf 3.20.0 which is incompatible.\n",
            "grpc-google-iam-v1 0.12.6 requires protobuf!=3.20.0,!=3.20.1,!=4.21.1,!=4.21.2,!=4.21.3,!=4.21.4,!=4.21.5,<5.0.0dev,>=3.19.5, but you have protobuf 3.20.0 which is incompatible.\n",
            "paddlepaddle-gpu 2.5.1 requires protobuf>=3.20.2; platform_system != \"Windows\", but you have protobuf 3.20.0 which is incompatible.\n",
            "tensorflow 2.12.0 requires protobuf!=4.21.0,!=4.21.1,!=4.21.2,!=4.21.3,!=4.21.4,!=4.21.5,<5.0.0dev,>=3.20.3, but you have protobuf 3.20.0 which is incompatible.\n",
            "tensorflow-metadata 1.13.1 requires protobuf<5,>=3.20.3, but you have protobuf 3.20.0 which is incompatible.\u001b[0m\u001b[31m\n",
            "\u001b[0mSuccessfully installed protobuf-3.20.0\n"
          ]
        },
        {
          "output_type": "display_data",
          "data": {
            "application/vnd.colab-display-data+json": {
              "pip_warning": {
                "packages": [
                  "google"
                ]
              }
            }
          },
          "metadata": {}
        },
        {
          "output_type": "stream",
          "name": "stdout",
          "text": [
            "fatal: destination path 'PaddleOCR' already exists and is not an empty directory.\n"
          ]
        }
      ]
    },
    {
      "cell_type": "code",
      "source": [
        "!wget http://nz2.archive.ubuntu.com/ubuntu/pool/main/o/openssl/libssl1.1_1.1.1f-1ubuntu2.19_amd64.deb\n",
        "\n",
        "!sudo dpkg -i libssl1.1_1.1.1f-1ubuntu2.19_amd64.deb"
      ],
      "metadata": {
        "colab": {
          "base_uri": "https://localhost:8080/"
        },
        "id": "OCsC0xdBrFOo",
        "outputId": "0985f6ce-d0f5-4473-f8b8-b091573a1c25"
      },
      "execution_count": null,
      "outputs": [
        {
          "output_type": "stream",
          "name": "stdout",
          "text": [
            "--2023-08-07 20:29:44--  http://nz2.archive.ubuntu.com/ubuntu/pool/main/o/openssl/libssl1.1_1.1.1f-1ubuntu2.19_amd64.deb\n",
            "Resolving nz2.archive.ubuntu.com (nz2.archive.ubuntu.com)... 185.125.190.36, 185.125.190.39, 91.189.91.81, ...\n",
            "Connecting to nz2.archive.ubuntu.com (nz2.archive.ubuntu.com)|185.125.190.36|:80... connected.\n",
            "HTTP request sent, awaiting response... 200 OK\n",
            "Length: 1321244 (1.3M) [application/x-debian-package]\n",
            "Saving to: ‘libssl1.1_1.1.1f-1ubuntu2.19_amd64.deb.1’\n",
            "\n",
            "libssl1.1_1.1.1f-1u 100%[===================>]   1.26M  1.32MB/s    in 1.0s    \n",
            "\n",
            "2023-08-07 20:29:46 (1.32 MB/s) - ‘libssl1.1_1.1.1f-1ubuntu2.19_amd64.deb.1’ saved [1321244/1321244]\n",
            "\n",
            "(Reading database ... 120551 files and directories currently installed.)\n",
            "Preparing to unpack libssl1.1_1.1.1f-1ubuntu2.19_amd64.deb ...\n",
            "Unpacking libssl1.1:amd64 (1.1.1f-1ubuntu2.19) over (1.1.1f-1ubuntu2.19) ...\n",
            "Setting up libssl1.1:amd64 (1.1.1f-1ubuntu2.19) ...\n",
            "debconf: unable to initialize frontend: Dialog\n",
            "debconf: (No usable dialog-like program is installed, so the dialog based frontend cannot be used. at /usr/share/perl5/Debconf/FrontEnd/Dialog.pm line 78.)\n",
            "debconf: falling back to frontend: Readline\n",
            "debconf: unable to initialize frontend: Readline\n",
            "debconf: (This frontend requires a controlling tty.)\n",
            "debconf: falling back to frontend: Teletype\n",
            "Processing triggers for libc-bin (2.35-0ubuntu3.1) ...\n"
          ]
        }
      ]
    },
    {
      "cell_type": "markdown",
      "source": [
        "**Modèle**"
      ],
      "metadata": {
        "id": "CbFuOjH1wHE2"
      }
    },
    {
      "cell_type": "code",
      "source": [
        "import cv2\n",
        "import layoutparser as lp\n",
        "image = cv2.imread(\"/content/Capture d’écran 2023-08-07 223407.jpg\")\n",
        "\n",
        "image = image[..., ::-1]\n",
        "\n",
        "# load model\n",
        "model = lp.PaddleDetectionLayoutModel(config_path=\"lp://PubLayNet/ppyolov2_r50vd_dcn_365e_publaynet/config\",\n",
        "                                threshold=0.5,\n",
        "                                label_map={0: \"Text\", 1: \"Title\", 2: \"List\", 3:\"Table\", 4:\"Figure\"},\n",
        "                                enforce_cpu=True,\n",
        "                                enable_mkldnn=True)#math kernel library\n",
        "# detect\n",
        "layout = model.detect(image)"
      ],
      "metadata": {
        "id": "QkLYAtrOp6fl"
      },
      "execution_count": null,
      "outputs": []
    },
    {
      "cell_type": "code",
      "source": [
        "layout"
      ],
      "metadata": {
        "colab": {
          "base_uri": "https://localhost:8080/"
        },
        "id": "-hBfR0AGtzkP",
        "outputId": "e7dfb4cd-38f1-4911-bf71-56d008709502"
      },
      "execution_count": null,
      "outputs": [
        {
          "output_type": "execute_result",
          "data": {
            "text/plain": [
              "Layout(_blocks=[TextBlock(block=Rectangle(x_1=0.0, y_1=1.6339569091796875, x_2=677.0, y_2=392.0), text=None, id=None, type=Table, parent=None, next=None, score=0.9774476289749146), TextBlock(block=Rectangle(x_1=0.0, y_1=351.20660400390625, x_2=571.0801391601562, y_2=360.76287841796875), text=None, id=None, type=Text, parent=None, next=None, score=0.5063202977180481)], page_data={})"
            ]
          },
          "metadata": {},
          "execution_count": 141
        }
      ]
    },
    {
      "cell_type": "code",
      "source": [
        "x_1=0\n",
        "y_1=0\n",
        "x_2=0\n",
        "y_2=0\n",
        "\n",
        "for l in layout:\n",
        "  #print(l)\n",
        "  if l.type == 'Table':\n",
        "    x_1 = int(l.block.x_1)\n",
        "    print(l.block.x_1)\n",
        "    y_1 = int(l.block.y_1)\n",
        "    x_2 = int(l.block.x_2)\n",
        "    y_2 = int(l.block.y_2)\n",
        "\n",
        "    break"
      ],
      "metadata": {
        "id": "fCv2xuEet5l8",
        "colab": {
          "base_uri": "https://localhost:8080/"
        },
        "outputId": "df40eca0-e896-40fd-9732-a569d33b3fbf"
      },
      "execution_count": null,
      "outputs": [
        {
          "output_type": "stream",
          "name": "stdout",
          "text": [
            "0.0\n"
          ]
        }
      ]
    },
    {
      "cell_type": "code",
      "source": [
        "print(x_1,y_1,x_2,y_2)"
      ],
      "metadata": {
        "colab": {
          "base_uri": "https://localhost:8080/"
        },
        "id": "okQYN5FQt9H1",
        "outputId": "38fd818f-6ca6-45e9-a9b2-4bae16b4b388"
      },
      "execution_count": null,
      "outputs": [
        {
          "output_type": "stream",
          "name": "stdout",
          "text": [
            "0 1 677 392\n"
          ]
        }
      ]
    },
    {
      "cell_type": "code",
      "source": [
        "im = cv2.imread('/content/Capture d’écran 2023-08-07 223407.jpg')"
      ],
      "metadata": {
        "id": "aHJn0M0nuCWu"
      },
      "execution_count": null,
      "outputs": []
    },
    {
      "cell_type": "code",
      "source": [
        "cv2.imwrite('ext_im.jpg', im[y_1:y_2,x_1:x_2])"
      ],
      "metadata": {
        "colab": {
          "base_uri": "https://localhost:8080/"
        },
        "id": "J5R6CDJHuLdT",
        "outputId": "9b9d1ff4-7d7b-43eb-add3-10c7ba7f1de7"
      },
      "execution_count": null,
      "outputs": [
        {
          "output_type": "execute_result",
          "data": {
            "text/plain": [
              "True"
            ]
          },
          "metadata": {},
          "execution_count": 145
        }
      ]
    },
    {
      "cell_type": "markdown",
      "source": [
        "Reconnaissance et detection du tableau"
      ],
      "metadata": {
        "id": "KAz_FBW8wVQ2"
      }
    },
    {
      "cell_type": "code",
      "source": [
        "from paddleocr import PaddleOCR, draw_ocr"
      ],
      "metadata": {
        "id": "92QUtq3JuP2r"
      },
      "execution_count": null,
      "outputs": []
    },
    {
      "cell_type": "code",
      "source": [
        "ocr = PaddleOCR(lang='en', use_gpu=False)\n",
        "image_path = '/content/ext_im.jpg'\n",
        "image_cv = cv2.imread(image_path)\n",
        "image_height = image_cv.shape[0]\n",
        "image_width = image_cv.shape[1]\n",
        "output = ocr.ocr(image_path)[0]"
      ],
      "metadata": {
        "id": "SXS-mxhNuUcl",
        "colab": {
          "base_uri": "https://localhost:8080/"
        },
        "outputId": "e28413ea-f948-4eff-df36-86847a2b5e8a"
      },
      "execution_count": null,
      "outputs": [
        {
          "output_type": "stream",
          "name": "stdout",
          "text": [
            "[2023/08/07 20:38:35] ppocr DEBUG: Namespace(help='==SUPPRESS==', use_gpu=False, use_xpu=False, use_npu=False, ir_optim=True, use_tensorrt=False, min_subgraph_size=15, precision='fp32', gpu_mem=500, gpu_id=0, image_dir=None, page_num=0, det_algorithm='DB', det_model_dir='/root/.paddleocr/whl/det/en/en_PP-OCRv3_det_infer', det_limit_side_len=960, det_limit_type='max', det_box_type='quad', det_db_thresh=0.3, det_db_box_thresh=0.6, det_db_unclip_ratio=1.5, max_batch_size=10, use_dilation=False, det_db_score_mode='fast', det_east_score_thresh=0.8, det_east_cover_thresh=0.1, det_east_nms_thresh=0.2, det_sast_score_thresh=0.5, det_sast_nms_thresh=0.2, det_pse_thresh=0, det_pse_box_thresh=0.85, det_pse_min_area=16, det_pse_scale=1, scales=[8, 16, 32], alpha=1.0, beta=1.0, fourier_degree=5, rec_algorithm='SVTR_LCNet', rec_model_dir='/root/.paddleocr/whl/rec/en/en_PP-OCRv4_rec_infer', rec_image_inverse=True, rec_image_shape='3, 48, 320', rec_batch_num=6, max_text_length=25, rec_char_dict_path='/usr/local/lib/python3.10/dist-packages/paddleocr/ppocr/utils/en_dict.txt', use_space_char=True, vis_font_path='./doc/fonts/simfang.ttf', drop_score=0.5, e2e_algorithm='PGNet', e2e_model_dir=None, e2e_limit_side_len=768, e2e_limit_type='max', e2e_pgnet_score_thresh=0.5, e2e_char_dict_path='./ppocr/utils/ic15_dict.txt', e2e_pgnet_valid_set='totaltext', e2e_pgnet_mode='fast', use_angle_cls=False, cls_model_dir='/root/.paddleocr/whl/cls/ch_ppocr_mobile_v2.0_cls_infer', cls_image_shape='3, 48, 192', label_list=['0', '180'], cls_batch_num=6, cls_thresh=0.9, enable_mkldnn=False, cpu_threads=10, use_pdserving=False, warmup=False, sr_model_dir=None, sr_image_shape='3, 32, 128', sr_batch_num=1, draw_img_save_dir='./inference_results', save_crop_res=False, crop_res_save_dir='./output', use_mp=False, total_process_num=1, process_id=0, benchmark=False, save_log_path='./log_output/', show_log=True, use_onnx=False, output='./output', table_max_len=488, table_algorithm='TableAttn', table_model_dir=None, merge_no_span_structure=True, table_char_dict_path=None, layout_model_dir=None, layout_dict_path=None, layout_score_threshold=0.5, layout_nms_threshold=0.5, kie_algorithm='LayoutXLM', ser_model_dir=None, re_model_dir=None, use_visual_backbone=True, ser_dict_path='../train_data/XFUND/class_list_xfun.txt', ocr_order_method=None, mode='structure', image_orientation=False, layout=True, table=True, ocr=True, recovery=False, use_pdf2docx_api=False, lang='en', det=True, rec=True, type='ocr', ocr_version='PP-OCRv4', structure_version='PP-StructureV2')\n",
            "[2023/08/07 20:38:37] ppocr WARNING: Since the angle classifier is not initialized, the angle classifier will not be uesd during the forward process\n",
            "[2023/08/07 20:38:37] ppocr DEBUG: dt_boxes num : 130, elapse : 0.6684837341308594\n",
            "[2023/08/07 20:39:01] ppocr DEBUG: rec_res num  : 130, elapse : 23.362457990646362\n"
          ]
        }
      ]
    },
    {
      "cell_type": "code",
      "source": [
        "print(output)"
      ],
      "metadata": {
        "id": "NQfLvfkMyJYy",
        "colab": {
          "base_uri": "https://localhost:8080/"
        },
        "outputId": "a89f178a-afd7-46c0-eae1-7d524005b15a"
      },
      "execution_count": null,
      "outputs": [
        {
          "output_type": "stream",
          "name": "stdout",
          "text": [
            "[[[[40.0, 1.0], [60.0, 1.0], [60.0, 17.0], [40.0, 17.0]], ('35', 0.9983012080192566)], [[[131.0, 2.0], [158.0, 2.0], [158.0, 17.0], [131.0, 17.0]], ('9.0', 0.9958723187446594)], [[[409.0, 2.0], [429.0, 2.0], [429.0, 18.0], [409.0, 18.0]], ('22', 0.9982524514198303)], [[[481.0, 3.0], [537.0, 3.0], [537.0, 17.0], [481.0, 17.0]], ('3.763.6', 0.9947431683540344)], [[[549.0, 2.0], [598.0, 4.0], [597.0, 19.0], [548.0, 16.0]], ('Lerida', 0.9889092445373535)], [[[130.0, 21.0], [157.0, 21.0], [157.0, 37.0], [130.0, 37.0]], ('4.5', 0.9972522258758545)], [[[403.0, 21.0], [428.0, 21.0], [428.0, 37.0], [403.0, 37.0]], ('111', 0.9898348450660706)], [[[481.0, 22.0], [537.0, 22.0], [537.0, 37.0], [481.0, 37.0]], ('3.912.5', 0.993878185749054)], [[[547.0, 21.0], [598.0, 24.0], [597.0, 38.0], [547.0, 35.0]], ('Libano', 0.9926182627677917)], [[[124.0, 38.0], [157.0, 38.0], [157.0, 52.0], [124.0, 52.0]], ('24.7', 0.9952333569526672)], [[[224.0, 39.0], [233.0, 39.0], [233.0, 51.0], [224.0, 51.0]], ('1', 0.9913870692253113)], [[[312.0, 38.0], [338.0, 38.0], [338.0, 53.0], [312.0, 53.0]], ('0.1', 0.9945538640022278)], [[[409.0, 38.0], [429.0, 38.0], [429.0, 54.0], [409.0, 54.0]], ('19', 0.9966763854026794)], [[[481.0, 39.0], [537.0, 39.0], [537.0, 53.0], [481.0, 53.0]], ('1.699.5', 0.9951909780502319)], [[[548.0, 39.0], [617.0, 39.0], [617.0, 53.0], [548.0, 53.0]], ('Mariquita', 0.9953176975250244)], [[[41.0, 53.0], [58.0, 53.0], [58.0, 67.0], [41.0, 67.0]], ('94', 0.9643515348434448)], [[[124.0, 53.0], [158.0, 53.0], [158.0, 68.0], [124.0, 68.0]], ('29.8', 0.9953325390815735)], [[[225.0, 57.0], [233.0, 57.0], [233.0, 66.0], [225.0, 66.0]], ('-', 0.9393132328987122)], [[[330.0, 59.0], [335.0, 59.0], [335.0, 66.0], [330.0, 66.0]], ('-', 0.931776762008667)], [[[410.0, 54.0], [427.0, 54.0], [427.0, 68.0], [410.0, 68.0]], ('21', 0.9986706972122192)], [[[481.0, 54.0], [537.0, 54.0], [537.0, 68.0], [481.0, 68.0]], ('1.499.3', 0.9936842322349548)], [[[548.0, 55.0], [599.0, 55.0], [599.0, 69.0], [548.0, 69.0]], ('Melgar', 0.9989617466926575)], [[[41.0, 70.0], [58.0, 70.0], [58.0, 85.0], [41.0, 85.0]], ('67', 0.7289149165153503)], [[[124.0, 70.0], [157.0, 70.0], [157.0, 85.0], [124.0, 85.0]], ('23.8', 0.9935640096664429)], [[[411.0, 70.0], [428.0, 70.0], [428.0, 85.0], [411.0, 85.0]], ('52', 0.9981647729873657)], [[[480.0, 69.0], [538.0, 69.0], [538.0, 87.0], [480.0, 87.0]], ('6.652.3', 0.9902158975601196)], [[[548.0, 70.0], [622.0, 74.0], [621.0, 89.0], [547.0, 85.0]], ('Natagaima', 0.997783899307251)], [[[41.0, 89.0], [59.0, 89.0], [59.0, 102.0], [41.0, 102.0]], ('38', 0.9982744455337524)], [[[123.0, 88.0], [157.0, 88.0], [157.0, 103.0], [123.0, 103.0]], ('30.2', 0.9973928928375244)], [[[225.0, 90.0], [233.0, 92.0], [231.0, 101.0], [223.0, 99.0]], ('-', 0.6777415871620178)], [[[411.0, 89.0], [427.0, 89.0], [427.0, 103.0], [411.0, 103.0]], ('61', 0.9962932467460632)], [[[481.0, 89.0], [536.0, 89.0], [536.0, 103.0], [481.0, 103.0]], ('2.470.5', 0.9932976365089417)], [[[548.0, 87.0], [598.0, 91.0], [597.0, 105.0], [547.0, 101.0]], ('Ortega', 0.9964494705200195)], [[[41.0, 105.0], [58.0, 105.0], [58.0, 119.0], [41.0, 119.0]], ('65', 0.9990159869194031)], [[[124.0, 106.0], [158.0, 106.0], [158.0, 120.0], [124.0, 120.0]], ('69.8', 0.979922890663147)], [[[226.0, 112.0], [231.0, 112.0], [231.0, 118.0], [226.0, 118.0]], ('-', 0.9344244003295898)], [[[329.0, 111.0], [335.0, 111.0], [335.0, 120.0], [329.0, 120.0]], ('1', 0.5177662968635559)], [[[409.0, 105.0], [428.0, 105.0], [428.0, 122.0], [409.0, 122.0]], ('29', 0.9972968101501465)], [[[481.0, 106.0], [536.0, 106.0], [536.0, 120.0], [481.0, 120.0]], ('3.296.3', 0.9887327551841736)], [[[547.0, 105.0], [611.0, 107.0], [610.0, 121.0], [547.0, 119.0]], ('Piedras.', 0.9953093528747559)], [[[39.0, 122.0], [59.0, 122.0], [59.0, 138.0], [39.0, 138.0]], ('16', 0.9944782257080078)], [[[130.0, 122.0], [157.0, 122.0], [157.0, 137.0], [130.0, 137.0]], ('7.0', 0.9973670840263367)], [[[410.0, 124.0], [427.0, 124.0], [427.0, 138.0], [410.0, 138.0]], ('79', 0.9975181221961975)], [[[480.0, 124.0], [536.0, 124.0], [536.0, 138.0], [480.0, 138.0]], ('2.783.4', 0.996153712272644)], [[[548.0, 124.0], [600.0, 124.0], [600.0, 138.0], [548.0, 138.0]], ('Prado.', 0.9947519898414612)], [[[33.0, 142.0], [57.0, 142.0], [57.0, 154.0], [33.0, 154.0]], ('483', 0.9978912472724915)], [[[116.0, 141.0], [157.0, 141.0], [157.0, 155.0], [116.0, 155.0]], ('258.4', 0.9965036511421204)], [[[224.0, 142.0], [233.0, 142.0], [233.0, 154.0], [224.0, 154.0]], ('1', 0.9854878783226013)], [[[312.0, 141.0], [340.0, 141.0], [340.0, 156.0], [312.0, 156.0]], ('1.0', 0.9966001510620117)], [[[403.0, 141.0], [428.0, 141.0], [428.0, 156.0], [403.0, 156.0]], ('526', 0.9989988207817078)], [[[480.0, 142.0], [536.0, 142.0], [536.0, 156.0], [480.0, 156.0]], ('6.871.7', 0.9956635236740112)], [[[549.0, 143.0], [635.0, 143.0], [635.0, 156.0], [549.0, 156.0]], ('Purificaci6n', 0.9539703726768494)], [[[48.0, 159.0], [57.0, 159.0], [57.0, 171.0], [48.0, 171.0]], ('5', 0.9986265897750854)], [[[130.0, 158.0], [157.0, 158.0], [157.0, 173.0], [130.0, 173.0]], ('1.7', 0.9954218864440918)], [[[224.0, 163.0], [232.0, 163.0], [232.0, 172.0], [224.0, 172.0]], ('-', 0.7652798295021057)], [[[410.0, 159.0], [428.0, 159.0], [428.0, 172.0], [410.0, 172.0]], ('43', 0.9992973804473877)], [[[480.0, 159.0], [536.0, 159.0], [536.0, 173.0], [480.0, 173.0]], ('2.906.6', 0.994988739490509)], [[[547.0, 158.0], [617.0, 160.0], [616.0, 174.0], [547.0, 172.0]], ('Rioblanco', 0.9973483681678772)], [[[37.0, 176.0], [58.0, 172.0], [60.0, 189.0], [40.0, 192.0]], ('26', 0.9975613951683044)], [[[130.0, 175.0], [157.0, 175.0], [157.0, 190.0], [130.0, 190.0]], ('3.6', 0.9959709048271179)], [[[410.0, 176.0], [427.0, 176.0], [427.0, 190.0], [410.0, 190.0]], ('17', 0.9981691837310791)], [[[478.0, 176.0], [536.0, 174.0], [536.0, 189.0], [479.0, 192.0]], ('1.131.6', 0.9920615553855896)], [[[547.0, 176.0], [638.0, 177.0], [638.0, 191.0], [547.0, 190.0]], ('Roncesvalles', 0.9972929358482361)], [[[41.0, 190.0], [58.0, 190.0], [58.0, 205.0], [41.0, 205.0]], ('32', 0.9926953315734863)], [[[123.0, 190.0], [156.0, 190.0], [156.0, 206.0], [123.0, 206.0]], ('28.3', 0.9980467557907104)], [[[224.0, 194.0], [232.0, 194.0], [232.0, 204.0], [224.0, 204.0]], ('-', 0.8339590430259705)], [[[409.0, 190.0], [429.0, 190.0], [429.0, 207.0], [409.0, 207.0]], ('38', 0.9984500408172607)], [[[480.0, 192.0], [536.0, 192.0], [536.0, 207.0], [480.0, 207.0]], ('1.749.0', 0.9932783246040344)], [[[547.0, 191.0], [598.0, 194.0], [597.0, 208.0], [547.0, 205.0]], ('Rovira', 0.9979258179664612)], [[[46.0, 208.0], [58.0, 208.0], [58.0, 224.0], [46.0, 224.0]], ('9', 0.9831441044807434)], [[[129.0, 208.0], [156.0, 208.0], [156.0, 223.0], [129.0, 223.0]], ('4.4', 0.996175229549408)], [[[410.0, 209.0], [427.0, 209.0], [427.0, 223.0], [410.0, 223.0]], ('81', 0.997309684753418)], [[[480.0, 209.0], [536.0, 209.0], [536.0, 223.0], [480.0, 223.0]], ('7.133.7', 0.9966228604316711)], [[[546.0, 209.0], [635.0, 210.0], [635.0, 224.0], [546.0, 223.0]], ('San Antonio.', 0.9761510491371155)], [[[46.0, 225.0], [58.0, 225.0], [58.0, 239.0], [46.0, 239.0]], ('8', 0.9954895377159119)], [[[129.0, 225.0], [157.0, 225.0], [157.0, 240.0], [129.0, 240.0]], ('2.6', 0.9970262050628662)], [[[410.0, 226.0], [427.0, 226.0], [427.0, 240.0], [410.0, 240.0]], ('20', 0.9974746704101562)], [[[480.0, 226.0], [536.0, 226.0], [536.0, 240.0], [480.0, 240.0]], ('2.402.6', 0.9943299889564514)], [[[547.0, 225.0], [620.0, 227.0], [619.0, 241.0], [547.0, 239.0]], ('San Luis..', 0.9438762664794922)], [[[40.0, 242.0], [58.0, 242.0], [58.0, 256.0], [40.0, 256.0]], ('33', 0.9994632601737976)], [[[130.0, 241.0], [157.0, 241.0], [157.0, 258.0], [130.0, 258.0]], ('6.5', 0.9964213371276855)], [[[408.0, 241.0], [428.0, 241.0], [428.0, 258.0], [408.0, 258.0]], ('17', 0.998767614364624)], [[[480.0, 243.0], [535.0, 243.0], [535.0, 258.0], [480.0, 258.0]], ('2.048.0', 0.9912409782409668)], [[[547.0, 244.0], [641.0, 244.0], [641.0, 258.0], [547.0, 258.0]], ('Santa Isabel..', 0.9564269781112671)], [[[40.0, 260.0], [58.0, 260.0], [58.0, 273.0], [40.0, 273.0]], ('47', 0.9994013905525208)], [[[130.0, 259.0], [156.0, 259.0], [156.0, 274.0], [130.0, 274.0]], ('8.3', 0.9939129948616028)], [[[410.0, 260.0], [427.0, 260.0], [427.0, 274.0], [410.0, 274.0]], ('32', 0.9989697337150574)], [[[496.0, 261.0], [535.0, 261.0], [535.0, 275.0], [496.0, 275.0]], ('610.9', 0.9958215951919556)], [[[549.0, 263.0], [596.0, 263.0], [596.0, 274.0], [549.0, 274.0]], ('Suarez', 0.9955410957336426)], [[[39.0, 277.0], [57.0, 277.0], [57.0, 290.0], [39.0, 290.0]], ('10', 0.998325765132904)], [[[129.0, 276.0], [156.0, 276.0], [156.0, 291.0], [129.0, 291.0]], ('3.3', 0.9953283667564392)], [[[414.0, 277.0], [428.0, 277.0], [428.0, 291.0], [414.0, 291.0]], ('4', 0.9977468848228455)], [[[496.0, 277.0], [536.0, 277.0], [536.0, 292.0], [496.0, 292.0]], ('466.0', 0.9950453042984009)], [[[547.0, 277.0], [670.0, 279.0], [670.0, 293.0], [547.0, 291.0]], ('Valle de San Juan', 0.9483597874641418)], [[[32.0, 292.0], [59.0, 292.0], [59.0, 308.0], [32.0, 308.0]], ('124', 0.9978035092353821)], [[[122.0, 290.0], [157.0, 290.0], [157.0, 309.0], [122.0, 309.0]], ('31.5', 0.9954612255096436)], [[[224.0, 295.0], [232.0, 295.0], [232.0, 305.0], [224.0, 305.0]], ('-', 0.8926964402198792)], [[[329.0, 297.0], [334.0, 297.0], [334.0, 303.0], [329.0, 303.0]], ('-', 0.8670684695243835)], [[[410.0, 292.0], [427.0, 292.0], [427.0, 306.0], [410.0, 306.0]], ('30', 0.9979169964790344)], [[[480.0, 293.0], [536.0, 293.0], [536.0, 308.0], [480.0, 308.0]], ('6.015.2', 0.9950461983680725)], [[[548.0, 292.0], [620.0, 294.0], [619.0, 309.0], [548.0, 306.0]], ('Venadillo.', 0.9848594665527344)], [[[40.0, 310.0], [57.0, 310.0], [57.0, 324.0], [40.0, 324.0]], ('43', 0.9994202852249146)], [[[128.0, 309.0], [156.0, 306.0], [158.0, 322.0], [130.0, 325.0]], ('5.5', 0.8401506543159485)], [[[224.0, 313.0], [232.0, 313.0], [232.0, 324.0], [224.0, 324.0]], ('-', 0.9310799837112427)], [[[409.0, 310.0], [426.0, 310.0], [426.0, 324.0], [409.0, 324.0]], ('21', 0.9984956383705139)], [[[494.0, 308.0], [535.0, 311.0], [534.0, 326.0], [493.0, 324.0]], ('395.1', 0.9962530136108398)], [[[548.0, 309.0], [641.0, 313.0], [640.0, 326.0], [548.0, 323.0]], ('Villahermosa', 0.9968538284301758)], [[[40.0, 328.0], [57.0, 328.0], [57.0, 341.0], [40.0, 341.0]], ('29', 0.997877836227417)], [[[130.0, 326.0], [156.0, 326.0], [156.0, 342.0], [130.0, 342.0]], ('3.5', 0.9945797920227051)], [[[225.0, 333.0], [230.0, 333.0], [230.0, 340.0], [225.0, 340.0]], ('-', 0.7665955424308777)], [[[409.0, 328.0], [426.0, 328.0], [426.0, 341.0], [409.0, 341.0]], ('13', 0.9990857839584351)], [[[480.0, 328.0], [535.0, 328.0], [535.0, 342.0], [480.0, 342.0]], ('1.075.3', 0.9962698221206665)], [[[548.0, 327.0], [618.0, 329.0], [617.0, 343.0], [548.0, 341.0]], ('Villarrica', 0.9957373738288879)], [[[17.0, 366.0], [58.0, 366.0], [58.0, 380.0], [17.0, 380.0]], ('3.686', 0.9952783584594727)], [[[100.0, 366.0], [155.0, 366.0], [155.0, 380.0], [100.0, 380.0]], ('1.616.0', 0.9957980513572693)], [[[223.0, 367.0], [235.0, 367.0], [235.0, 381.0], [223.0, 381.0]], ('9', 0.985306978225708)], [[[304.0, 367.0], [338.0, 367.0], [338.0, 382.0], [304.0, 382.0]], ('16.2', 0.9981577396392822)], [[[387.0, 368.0], [428.0, 368.0], [428.0, 383.0], [387.0, 383.0]], ('2.606', 0.9893181920051575)], [[[465.0, 366.0], [535.0, 369.0], [535.0, 383.0], [464.0, 381.0]], ('125.686.5', 0.9954095482826233)], [[[548.0, 370.0], [619.0, 370.0], [619.0, 381.0], [548.0, 381.0]], ('TOTALES', 0.995975136756897)]]\n"
          ]
        }
      ]
    },
    {
      "cell_type": "code",
      "source": [
        "boxes = [line[0] for line in output]\n",
        "texts = [line[1][0] for line in output]\n",
        "probabilities = [line[1][1] for line in output]"
      ],
      "metadata": {
        "id": "bHuWbHivyLvl"
      },
      "execution_count": null,
      "outputs": []
    },
    {
      "cell_type": "code",
      "source": [
        "image_boxes = image_cv.copy()\n"
      ],
      "metadata": {
        "id": "23VvBqTgyNw7"
      },
      "execution_count": null,
      "outputs": []
    },
    {
      "cell_type": "code",
      "source": [
        "for box,text in zip(boxes,texts):\n",
        "  cv2.rectangle(image_boxes, (int(box[0][0]),int(box[0][1])), (int(box[2][0]),int(box[2][1])),(0,0,255),1)\n",
        "  cv2.putText(image_boxes, text,(int(box[0][0]),int(box[0][1])),cv2.FONT_HERSHEY_SIMPLEX,1,(222,0,0),1)"
      ],
      "metadata": {
        "id": "XHowsCGXyQeQ"
      },
      "execution_count": null,
      "outputs": []
    },
    {
      "cell_type": "code",
      "source": [
        "cv2.imwrite('detections.jpg', image_boxes)"
      ],
      "metadata": {
        "id": "lsM4R1eCySvJ",
        "colab": {
          "base_uri": "https://localhost:8080/"
        },
        "outputId": "f72d0419-79fc-4f77-e248-ae016e513362"
      },
      "execution_count": null,
      "outputs": [
        {
          "output_type": "execute_result",
          "data": {
            "text/plain": [
              "True"
            ]
          },
          "metadata": {},
          "execution_count": 152
        }
      ]
    },
    {
      "cell_type": "markdown",
      "source": [
        "**Trait verticale et horizontal**"
      ],
      "metadata": {
        "id": "FCguoRnwwt1h"
      }
    },
    {
      "cell_type": "code",
      "source": [
        "im = image_cv.copy()"
      ],
      "metadata": {
        "id": "RqjQAdrvyVfL"
      },
      "execution_count": null,
      "outputs": []
    },
    {
      "cell_type": "code",
      "source": [
        "horiz_boxes = []\n",
        "vert_boxes = []\n",
        "\n",
        "for box in boxes:\n",
        "  x_h, x_v = 0,int(box[0][0])\n",
        "  y_h, y_v = int(box[0][1]),0\n",
        "  width_h,width_v = image_width, int(box[2][0]-box[0][0])\n",
        "  height_h,height_v = int(box[2][1]-box[0][1]),image_height\n",
        "\n",
        "  horiz_boxes.append([x_h,y_h,x_h+width_h,y_h+height_h])\n",
        "  vert_boxes.append([x_v,y_v,x_v+width_v,y_v+height_v])\n",
        "\n",
        "  cv2.rectangle(im,(x_h,y_h), (x_h+width_h,y_h+height_h),(0,0,255),1)\n",
        "  cv2.rectangle(im,(x_v,y_v), (x_v+width_v,y_v+height_v),(0,255,0),1)"
      ],
      "metadata": {
        "id": "HCx1S2r-yYBD"
      },
      "execution_count": null,
      "outputs": []
    },
    {
      "cell_type": "code",
      "source": [
        "cv2.imwrite('horiz_vert.jpg',im)"
      ],
      "metadata": {
        "id": "dxeqvPcJydQ5",
        "colab": {
          "base_uri": "https://localhost:8080/"
        },
        "outputId": "13a0173f-1877-476e-8484-5aea5f6d8059"
      },
      "execution_count": null,
      "outputs": [
        {
          "output_type": "execute_result",
          "data": {
            "text/plain": [
              "True"
            ]
          },
          "metadata": {},
          "execution_count": 155
        }
      ]
    },
    {
      "cell_type": "code",
      "source": [
        "import tensorflow as tf\n",
        "import numpy as np\n"
      ],
      "metadata": {
        "id": "Ar7shnnOy1Ju"
      },
      "execution_count": null,
      "outputs": []
    },
    {
      "cell_type": "code",
      "source": [
        "horiz_out = tf.image.non_max_suppression(\n",
        "    horiz_boxes,\n",
        "    probabilities,\n",
        "    max_output_size = 1000,\n",
        "    iou_threshold=0.1,\n",
        "    score_threshold=float('-inf'),\n",
        "    name=None\n",
        ")"
      ],
      "metadata": {
        "id": "1PEwtIVEygX0"
      },
      "execution_count": null,
      "outputs": []
    },
    {
      "cell_type": "code",
      "source": [
        "horiz_lines = np.sort(np.array(horiz_out))\n",
        "print(horiz_lines)"
      ],
      "metadata": {
        "id": "H7Chk0s8y7O4",
        "colab": {
          "base_uri": "https://localhost:8080/"
        },
        "outputId": "37f44d1f-cd97-4735-a4c9-66c49521fa77"
      },
      "execution_count": null,
      "outputs": [
        {
          "output_type": "stream",
          "name": "stdout",
          "text": [
            "[  0   5  12  21  24  27  33  42  49  55  60  66  71  76  79  84  89  98\n",
            " 101 110 116]\n"
          ]
        }
      ]
    },
    {
      "cell_type": "code",
      "source": [
        "im_nms = image_cv.copy()"
      ],
      "metadata": {
        "id": "5BtF9yPazFQ5"
      },
      "execution_count": null,
      "outputs": []
    },
    {
      "cell_type": "code",
      "source": [
        "for val in horiz_lines:\n",
        "  cv2.rectangle(im_nms, (int(horiz_boxes[val][0]),int(horiz_boxes[val][1])), (int(horiz_boxes[val][2]),int(horiz_boxes[val][3])),(0,0,255),1)\n"
      ],
      "metadata": {
        "id": "l0HK1PF_zJKB"
      },
      "execution_count": null,
      "outputs": []
    },
    {
      "cell_type": "code",
      "source": [
        "cv2.imwrite('im_nms.jpg',im_nms)"
      ],
      "metadata": {
        "id": "GI7Ya99NzLYE",
        "colab": {
          "base_uri": "https://localhost:8080/"
        },
        "outputId": "2f0cfeef-2631-41ab-e5c9-bb88088d2dc7"
      },
      "execution_count": null,
      "outputs": [
        {
          "output_type": "execute_result",
          "data": {
            "text/plain": [
              "True"
            ]
          },
          "metadata": {},
          "execution_count": 161
        }
      ]
    },
    {
      "cell_type": "code",
      "source": [
        "vert_out = tf.image.non_max_suppression(\n",
        "    vert_boxes,\n",
        "    probabilities,\n",
        "    max_output_size = 1000,\n",
        "    iou_threshold=0.1,\n",
        "    score_threshold=float('-inf'),\n",
        "    name=None\n",
        ")"
      ],
      "metadata": {
        "id": "65l01mHjzOMK"
      },
      "execution_count": null,
      "outputs": []
    },
    {
      "cell_type": "code",
      "source": [
        "print(vert_out)"
      ],
      "metadata": {
        "id": "IwZjo6DbzQl0",
        "colab": {
          "base_uri": "https://localhost:8080/"
        },
        "outputId": "19ca97b8-046c-4bdf-aeda-aaa3b65542c3"
      },
      "execution_count": null,
      "outputs": [
        {
          "output_type": "stream",
          "name": "stdout",
          "text": [
            "tf.Tensor([ 79  55  21 116  64  72  10], shape=(7,), dtype=int32)\n"
          ]
        }
      ]
    },
    {
      "cell_type": "code",
      "source": [
        "vert_lines = np.sort(np.array(vert_out))\n",
        "print(vert_lines)"
      ],
      "metadata": {
        "id": "aY-dmjK6zS_L",
        "colab": {
          "base_uri": "https://localhost:8080/"
        },
        "outputId": "3ec37389-08fc-4394-ff6c-204e73b3ff1e"
      },
      "execution_count": null,
      "outputs": [
        {
          "output_type": "stream",
          "name": "stdout",
          "text": [
            "[ 10  21  55  64  72  79 116]\n"
          ]
        }
      ]
    },
    {
      "cell_type": "code",
      "source": [
        "for val in vert_lines:\n",
        "  cv2.rectangle(im_nms, (int(vert_boxes[val][0]),int(vert_boxes[val][1])), (int(vert_boxes[val][2]),int(vert_boxes[val][3])),(255,0,0),1)\n"
      ],
      "metadata": {
        "id": "uV6m4iIuzVy6"
      },
      "execution_count": null,
      "outputs": []
    },
    {
      "cell_type": "code",
      "source": [
        "cv2.imwrite('im_nms.jpg',im_nms)"
      ],
      "metadata": {
        "id": "wVFaaM7NzYbz",
        "colab": {
          "base_uri": "https://localhost:8080/"
        },
        "outputId": "aa14b391-f10e-4704-c417-a3ae4fd366a7"
      },
      "execution_count": null,
      "outputs": [
        {
          "output_type": "execute_result",
          "data": {
            "text/plain": [
              "True"
            ]
          },
          "metadata": {},
          "execution_count": 166
        }
      ]
    },
    {
      "cell_type": "markdown",
      "source": [
        "**Conversion sous format excel**"
      ],
      "metadata": {
        "id": "J0G-TD54w_ZT"
      }
    },
    {
      "cell_type": "code",
      "source": [
        "out_array = [[\"\" for i in range(len(vert_lines))] for j in range(len(horiz_lines))]\n",
        "print(np.array(out_array).shape)\n",
        "print(out_array)"
      ],
      "metadata": {
        "id": "c-QHppFyzZ-V",
        "colab": {
          "base_uri": "https://localhost:8080/"
        },
        "outputId": "ed91c9df-b4ec-4917-b2fd-bac90813d19a"
      },
      "execution_count": null,
      "outputs": [
        {
          "output_type": "stream",
          "name": "stdout",
          "text": [
            "(21, 7)\n",
            "[['', '', '', '', '', '', ''], ['', '', '', '', '', '', ''], ['', '', '', '', '', '', ''], ['', '', '', '', '', '', ''], ['', '', '', '', '', '', ''], ['', '', '', '', '', '', ''], ['', '', '', '', '', '', ''], ['', '', '', '', '', '', ''], ['', '', '', '', '', '', ''], ['', '', '', '', '', '', ''], ['', '', '', '', '', '', ''], ['', '', '', '', '', '', ''], ['', '', '', '', '', '', ''], ['', '', '', '', '', '', ''], ['', '', '', '', '', '', ''], ['', '', '', '', '', '', ''], ['', '', '', '', '', '', ''], ['', '', '', '', '', '', ''], ['', '', '', '', '', '', ''], ['', '', '', '', '', '', ''], ['', '', '', '', '', '', '']]\n"
          ]
        }
      ]
    },
    {
      "cell_type": "code",
      "source": [
        "unordered_boxes = []\n",
        "\n",
        "for i in vert_lines:\n",
        "  print(vert_boxes[i])\n",
        "  unordered_boxes.append(vert_boxes[i][0])"
      ],
      "metadata": {
        "id": "Z86zFyjXzd45",
        "colab": {
          "base_uri": "https://localhost:8080/"
        },
        "outputId": "93cc614f-25e0-4528-8910-57c901d3278e"
      },
      "execution_count": null,
      "outputs": [
        {
          "output_type": "stream",
          "name": "stdout",
          "text": [
            "[224, 0, 233, 391]\n",
            "[548, 0, 599, 391]\n",
            "[410, 0, 428, 391]\n",
            "[123, 0, 156, 391]\n",
            "[480, 0, 536, 391]\n",
            "[40, 0, 58, 391]\n",
            "[304, 0, 338, 391]\n"
          ]
        }
      ]
    },
    {
      "cell_type": "code",
      "source": [
        "ordered_boxes = np.argsort(unordered_boxes)\n",
        "print(ordered_boxes)"
      ],
      "metadata": {
        "id": "RosevaDfzgK-",
        "colab": {
          "base_uri": "https://localhost:8080/"
        },
        "outputId": "c2368f4c-0892-49d9-d318-a052f4da8ca3"
      },
      "execution_count": null,
      "outputs": [
        {
          "output_type": "stream",
          "name": "stdout",
          "text": [
            "[5 3 0 6 2 4 1]\n"
          ]
        }
      ]
    },
    {
      "cell_type": "code",
      "source": [
        "def intersection(box_1, box_2):\n",
        "  return [box_2[0], box_1[1],box_2[2], box_1[3]]"
      ],
      "metadata": {
        "id": "Crv4gT64ziVK"
      },
      "execution_count": null,
      "outputs": []
    },
    {
      "cell_type": "code",
      "source": [
        "def iou(box_1, box_2):\n",
        "\n",
        "  x_1 = max(box_1[0], box_2[0])\n",
        "  y_1 = max(box_1[1], box_2[1])\n",
        "  x_2 = min(box_1[2], box_2[2])\n",
        "  y_2 = min(box_1[3], box_2[3])\n",
        "\n",
        "  inter = abs(max((x_2 - x_1, 0)) * max((y_2 - y_1), 0))\n",
        "  if inter == 0:\n",
        "      return 0\n",
        "\n",
        "  box_1_area = abs((box_1[2] - box_1[0]) * (box_1[3] - box_1[1]))\n",
        "  box_2_area = abs((box_2[2] - box_2[0]) * (box_2[3] - box_2[1]))\n",
        "\n",
        "  return inter / float(box_1_area + box_2_area - inter)"
      ],
      "metadata": {
        "id": "evINTsPBzkWC"
      },
      "execution_count": null,
      "outputs": []
    },
    {
      "cell_type": "code",
      "source": [
        "for i in range(len(horiz_lines)):\n",
        "  for j in range(len(vert_lines)):\n",
        "    resultant = intersection(horiz_boxes[horiz_lines[i]], vert_boxes[vert_lines[ordered_boxes[j]]] )\n",
        "\n",
        "    for b in range(len(boxes)):\n",
        "      the_box = [boxes[b][0][0],boxes[b][0][1],boxes[b][2][0],boxes[b][2][1]]\n",
        "      if(iou(resultant,the_box)>0.1):\n",
        "        out_array[i][j] = texts[b]"
      ],
      "metadata": {
        "id": "nnJplYgIzml7"
      },
      "execution_count": null,
      "outputs": []
    },
    {
      "cell_type": "code",
      "source": [
        "out_array=np.array(out_array)"
      ],
      "metadata": {
        "id": "D26KfuR3zooF"
      },
      "execution_count": null,
      "outputs": []
    },
    {
      "cell_type": "code",
      "source": [
        "out_array"
      ],
      "metadata": {
        "id": "vG6rRVmhzqim",
        "colab": {
          "base_uri": "https://localhost:8080/"
        },
        "outputId": "0906eba2-a845-4c06-f57e-85ecec8665ae"
      },
      "execution_count": null,
      "outputs": [
        {
          "output_type": "execute_result",
          "data": {
            "text/plain": [
              "array([['35', '9.0', '', '', '22', '3.763.6', 'Lerida'],\n",
              "       ['', '4.5', '', '', '111', '3.912.5', 'Libano'],\n",
              "       ['', '24.7', '1', '0.1', '19', '1.699.5', 'Mariquita'],\n",
              "       ['94', '29.8', '-', '', '21', '1.499.3', 'Melgar'],\n",
              "       ['67', '23.8', '', '', '52', '6.652.3', 'Natagaima'],\n",
              "       ['38', '30.2', '-', '', '61', '2.470.5', 'Ortega'],\n",
              "       ['65', '69.8', '-', '', '29', '3.296.3', 'Piedras.'],\n",
              "       ['16', '7.0', '', '', '79', '2.783.4', 'Prado.'],\n",
              "       ['483', '258.4', '1', '1.0', '526', '6.871.7', 'Purificaci6n'],\n",
              "       ['5', '1.7', '-', '', '43', '2.906.6', 'Rioblanco'],\n",
              "       ['26', '3.6', '', '', '17', '1.131.6', 'Roncesvalles'],\n",
              "       ['32', '28.3', '-', '', '38', '1.749.0', 'Rovira'],\n",
              "       ['9', '4.4', '', '', '81', '7.133.7', 'San Antonio.'],\n",
              "       ['8', '2.6', '', '', '20', '2.402.6', 'San Luis..'],\n",
              "       ['33', '6.5', '', '', '17', '2.048.0', 'Santa Isabel..'],\n",
              "       ['47', '8.3', '', '', '32', '610.9', 'Suarez'],\n",
              "       ['10', '3.3', '', '', '4', '466.0', 'Valle de San Juan'],\n",
              "       ['124', '31.5', '-', '', '30', '6.015.2', 'Venadillo.'],\n",
              "       ['43', '5.5', '-', '', '21', '395.1', 'Villahermosa'],\n",
              "       ['29', '3.5', '-', '', '13', '1.075.3', 'Villarrica'],\n",
              "       ['3.686', '1.616.0', '9', '16.2', '2.606', '125.686.5', 'TOTALES']],\n",
              "      dtype='<U17')"
            ]
          },
          "metadata": {},
          "execution_count": 174
        }
      ]
    },
    {
      "cell_type": "code",
      "source": [
        "import pandas as pd\n"
      ],
      "metadata": {
        "id": "pg-y00-dz2hn"
      },
      "execution_count": null,
      "outputs": []
    },
    {
      "cell_type": "code",
      "source": [
        "current_bank=['']*len(out_array[0,:])\n",
        "print(current_bank)"
      ],
      "metadata": {
        "id": "MST2BKdLAzoM",
        "colab": {
          "base_uri": "https://localhost:8080/"
        },
        "outputId": "4d2e5474-f2c9-4f16-9605-faccf2f256ca"
      },
      "execution_count": null,
      "outputs": [
        {
          "output_type": "stream",
          "name": "stdout",
          "text": [
            "['', '', '', '', '', '', '']\n"
          ]
        }
      ]
    },
    {
      "cell_type": "code",
      "source": [
        "def empty(arr):\n",
        "  for i in arr:\n",
        "    if i=='':\n",
        "      return True\n",
        "  return False"
      ],
      "metadata": {
        "id": "BPPXHfYXA0PH"
      },
      "execution_count": null,
      "outputs": []
    },
    {
      "cell_type": "code",
      "source": [
        "cleaned_array=[]"
      ],
      "metadata": {
        "id": "TSQmCpd6A2o2"
      },
      "execution_count": null,
      "outputs": []
    },
    {
      "cell_type": "code",
      "source": [
        "for i in range(len(out_array)):\n",
        "  if not empty(out_array[i]):\n",
        "    current_bank=[out_array[i][j] for j in range(len(out_array[i]))]\n",
        "    cleaned_array.append(current_bank)\n",
        "    not_empty=True\n",
        "  else:\n",
        "    for j in range(len(out_array[i])):\n",
        "      current_bank[j]+=' '+out_array[i][j]\n",
        "    print('-->',current_bank)\n",
        "cleaned_array=np.array(cleaned_array)\n",
        "print(cleaned_array)"
      ],
      "metadata": {
        "id": "ddCMYvNvA4qa",
        "colab": {
          "base_uri": "https://localhost:8080/"
        },
        "outputId": "b8f487ab-a725-43b1-bf9e-404218a00f86"
      },
      "execution_count": null,
      "outputs": [
        {
          "output_type": "stream",
          "name": "stdout",
          "text": [
            "--> [' 35', ' 9.0', ' ', ' ', ' 22', ' 3.763.6', ' Lerida']\n",
            "--> [' 35 ', ' 9.0 4.5', '  ', '  ', ' 22 111', ' 3.763.6 3.912.5', ' Lerida Libano']\n",
            "--> [' 35  ', ' 9.0 4.5 24.7', '   1', '   0.1', ' 22 111 19', ' 3.763.6 3.912.5 1.699.5', ' Lerida Libano Mariquita']\n",
            "--> [' 35   94', ' 9.0 4.5 24.7 29.8', '   1 -', '   0.1 ', ' 22 111 19 21', ' 3.763.6 3.912.5 1.699.5 1.499.3', ' Lerida Libano Mariquita Melgar']\n",
            "--> [' 35   94 67', ' 9.0 4.5 24.7 29.8 23.8', '   1 - ', '   0.1  ', ' 22 111 19 21 52', ' 3.763.6 3.912.5 1.699.5 1.499.3 6.652.3', ' Lerida Libano Mariquita Melgar Natagaima']\n",
            "--> [' 35   94 67 38', ' 9.0 4.5 24.7 29.8 23.8 30.2', '   1 -  -', '   0.1   ', ' 22 111 19 21 52 61', ' 3.763.6 3.912.5 1.699.5 1.499.3 6.652.3 2.470.5', ' Lerida Libano Mariquita Melgar Natagaima Ortega']\n",
            "--> [' 35   94 67 38 65', ' 9.0 4.5 24.7 29.8 23.8 30.2 69.8', '   1 -  - -', '   0.1    ', ' 22 111 19 21 52 61 29', ' 3.763.6 3.912.5 1.699.5 1.499.3 6.652.3 2.470.5 3.296.3', ' Lerida Libano Mariquita Melgar Natagaima Ortega Piedras.']\n",
            "--> [' 35   94 67 38 65 16', ' 9.0 4.5 24.7 29.8 23.8 30.2 69.8 7.0', '   1 -  - - ', '   0.1     ', ' 22 111 19 21 52 61 29 79', ' 3.763.6 3.912.5 1.699.5 1.499.3 6.652.3 2.470.5 3.296.3 2.783.4', ' Lerida Libano Mariquita Melgar Natagaima Ortega Piedras. Prado.']\n",
            "--> ['483 5', '258.4 1.7', '1 -', '1.0 ', '526 43', '6.871.7 2.906.6', 'Purificaci6n Rioblanco']\n",
            "--> ['483 5 26', '258.4 1.7 3.6', '1 - ', '1.0  ', '526 43 17', '6.871.7 2.906.6 1.131.6', 'Purificaci6n Rioblanco Roncesvalles']\n",
            "--> ['483 5 26 32', '258.4 1.7 3.6 28.3', '1 -  -', '1.0   ', '526 43 17 38', '6.871.7 2.906.6 1.131.6 1.749.0', 'Purificaci6n Rioblanco Roncesvalles Rovira']\n",
            "--> ['483 5 26 32 9', '258.4 1.7 3.6 28.3 4.4', '1 -  - ', '1.0    ', '526 43 17 38 81', '6.871.7 2.906.6 1.131.6 1.749.0 7.133.7', 'Purificaci6n Rioblanco Roncesvalles Rovira San Antonio.']\n",
            "--> ['483 5 26 32 9 8', '258.4 1.7 3.6 28.3 4.4 2.6', '1 -  -  ', '1.0     ', '526 43 17 38 81 20', '6.871.7 2.906.6 1.131.6 1.749.0 7.133.7 2.402.6', 'Purificaci6n Rioblanco Roncesvalles Rovira San Antonio. San Luis..']\n",
            "--> ['483 5 26 32 9 8 33', '258.4 1.7 3.6 28.3 4.4 2.6 6.5', '1 -  -   ', '1.0      ', '526 43 17 38 81 20 17', '6.871.7 2.906.6 1.131.6 1.749.0 7.133.7 2.402.6 2.048.0', 'Purificaci6n Rioblanco Roncesvalles Rovira San Antonio. San Luis.. Santa Isabel..']\n",
            "--> ['483 5 26 32 9 8 33 47', '258.4 1.7 3.6 28.3 4.4 2.6 6.5 8.3', '1 -  -    ', '1.0       ', '526 43 17 38 81 20 17 32', '6.871.7 2.906.6 1.131.6 1.749.0 7.133.7 2.402.6 2.048.0 610.9', 'Purificaci6n Rioblanco Roncesvalles Rovira San Antonio. San Luis.. Santa Isabel.. Suarez']\n",
            "--> ['483 5 26 32 9 8 33 47 10', '258.4 1.7 3.6 28.3 4.4 2.6 6.5 8.3 3.3', '1 -  -     ', '1.0        ', '526 43 17 38 81 20 17 32 4', '6.871.7 2.906.6 1.131.6 1.749.0 7.133.7 2.402.6 2.048.0 610.9 466.0', 'Purificaci6n Rioblanco Roncesvalles Rovira San Antonio. San Luis.. Santa Isabel.. Suarez Valle de San Juan']\n",
            "--> ['483 5 26 32 9 8 33 47 10 124', '258.4 1.7 3.6 28.3 4.4 2.6 6.5 8.3 3.3 31.5', '1 -  -      -', '1.0         ', '526 43 17 38 81 20 17 32 4 30', '6.871.7 2.906.6 1.131.6 1.749.0 7.133.7 2.402.6 2.048.0 610.9 466.0 6.015.2', 'Purificaci6n Rioblanco Roncesvalles Rovira San Antonio. San Luis.. Santa Isabel.. Suarez Valle de San Juan Venadillo.']\n",
            "--> ['483 5 26 32 9 8 33 47 10 124 43', '258.4 1.7 3.6 28.3 4.4 2.6 6.5 8.3 3.3 31.5 5.5', '1 -  -      - -', '1.0          ', '526 43 17 38 81 20 17 32 4 30 21', '6.871.7 2.906.6 1.131.6 1.749.0 7.133.7 2.402.6 2.048.0 610.9 466.0 6.015.2 395.1', 'Purificaci6n Rioblanco Roncesvalles Rovira San Antonio. San Luis.. Santa Isabel.. Suarez Valle de San Juan Venadillo. Villahermosa']\n",
            "--> ['483 5 26 32 9 8 33 47 10 124 43 29', '258.4 1.7 3.6 28.3 4.4 2.6 6.5 8.3 3.3 31.5 5.5 3.5', '1 -  -      - - -', '1.0           ', '526 43 17 38 81 20 17 32 4 30 21 13', '6.871.7 2.906.6 1.131.6 1.749.0 7.133.7 2.402.6 2.048.0 610.9 466.0 6.015.2 395.1 1.075.3', 'Purificaci6n Rioblanco Roncesvalles Rovira San Antonio. San Luis.. Santa Isabel.. Suarez Valle de San Juan Venadillo. Villahermosa Villarrica']\n",
            "[['483 5 26 32 9 8 33 47 10 124 43 29'\n",
            "  '258.4 1.7 3.6 28.3 4.4 2.6 6.5 8.3 3.3 31.5 5.5 3.5'\n",
            "  '1 -  -      - - -' '1.0           '\n",
            "  '526 43 17 38 81 20 17 32 4 30 21 13'\n",
            "  '6.871.7 2.906.6 1.131.6 1.749.0 7.133.7 2.402.6 2.048.0 610.9 466.0 6.015.2 395.1 1.075.3'\n",
            "  'Purificaci6n Rioblanco Roncesvalles Rovira San Antonio. San Luis.. Santa Isabel.. Suarez Valle de San Juan Venadillo. Villahermosa Villarrica']\n",
            " ['3.686' '1.616.0' '9' '16.2' '2.606' '125.686.5' 'TOTALES']]\n"
          ]
        }
      ]
    },
    {
      "cell_type": "code",
      "source": [
        "pd.DataFrame(out_array).to_excel('sample.xlsx', sheet_name='Sheet1', index=False)\n"
      ],
      "metadata": {
        "id": "TqWad4bXBFCx"
      },
      "execution_count": null,
      "outputs": []
    }
  ]
}